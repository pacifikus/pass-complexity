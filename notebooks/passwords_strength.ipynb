{
  "metadata": {
    "kernelspec": {
      "language": "python",
      "display_name": "Python 3",
      "name": "python3"
    },
    "language_info": {
      "name": "python",
      "version": "3.7.9",
      "mimetype": "text/x-python",
      "codemirror_mode": {
        "name": "ipython",
        "version": 3
      },
      "pygments_lexer": "ipython3",
      "nbconvert_exporter": "python",
      "file_extension": ".py"
    },
    "colab": {
      "provenance": [],
      "collapsed_sections": []
    },
    "accelerator": "GPU",
    "gpuClass": "standard"
  },
  "nbformat_minor": 0,
  "nbformat": 4,
  "cells": [
    {
      "cell_type": "code",
      "source": [
        "import pandas as pd\n",
        "import numpy as np\n",
        "\n",
        "import seaborn as sns\n",
        "import matplotlib.pyplot as plt\n",
        "import re\n",
        "import pickle\n",
        "\n",
        "import math\n",
        "import sys\n",
        "import os\n",
        "\n",
        "import tensorflow as tf\n",
        "from keras.models import Sequential\n",
        "from keras.layers import Dense,  Activation, LSTM, Embedding, Dropout, Concatenate, Input, ReLU\n",
        "from keras.preprocessing.text import Tokenizer\n",
        "from keras.utils import pad_sequences \n",
        "from keras.callbacks import EarlyStopping\n",
        "from keras.optimizers import Adam\n",
        "\n",
        "from sklearn.linear_model import LinearRegression\n",
        "from sklearn.ensemble import RandomForestRegressor\n",
        "from sklearn.model_selection import RandomizedSearchCV\n",
        "from sklearn.metrics import mean_squared_log_error\n",
        "from sklearn.model_selection import train_test_split"
      ],
      "metadata": {
        "trusted": true,
        "id": "kZtnAUGEabOB"
      },
      "execution_count": 26,
      "outputs": []
    },
    {
      "cell_type": "markdown",
      "source": [
        "### Data Exploration"
      ],
      "metadata": {
        "id": "7GQLUd5habOC"
      }
    },
    {
      "cell_type": "code",
      "source": [
        "train = pd.read_csv('train.csv')\n",
        "test = pd.read_csv('test.csv')\n",
        "train.dropna(inplace=True)"
      ],
      "metadata": {
        "trusted": true,
        "id": "hFPN1JCeabOD"
      },
      "execution_count": 5,
      "outputs": []
    },
    {
      "cell_type": "code",
      "source": [
        "train['Times'].describe()"
      ],
      "metadata": {
        "colab": {
          "base_uri": "https://localhost:8080/"
        },
        "id": "tIefVPvkb6KY",
        "outputId": "1cb12594-0348-4000-d651-50269af3781f"
      },
      "execution_count": 6,
      "outputs": [
        {
          "output_type": "execute_result",
          "data": {
            "text/plain": [
              "count    92667.000000\n",
              "mean         1.844972\n",
              "std         11.190302\n",
              "min          1.000000\n",
              "25%          1.000000\n",
              "50%          1.000000\n",
              "75%          1.000000\n",
              "max       1688.000000\n",
              "Name: Times, dtype: float64"
            ]
          },
          "metadata": {},
          "execution_count": 6
        }
      ]
    },
    {
      "cell_type": "code",
      "source": [
        "y = train.Times\n",
        "train.drop(columns='Times', inplace=True)\n",
        "test.drop(columns='Id', inplace=True)"
      ],
      "metadata": {
        "trusted": true,
        "id": "AZODhh-babOE"
      },
      "execution_count": 7,
      "outputs": []
    },
    {
      "cell_type": "markdown",
      "source": [
        "Let's generate some features:\n",
        "\n",
        "- password length\n",
        "- digits count\n",
        "- letters count\n",
        "- special symbols count\n",
        "- unique symbols count\n",
        "- uppercase symbols count\n",
        "- lowercase symbols count"
      ],
      "metadata": {
        "id": "bToUM4lgabOE"
      }
    },
    {
      "cell_type": "code",
      "source": [
        "def count_digits(password):\n",
        "    return sum((c.isdigit() for c in password))\n",
        "\n",
        "def count_letters(password):\n",
        "    return sum((c.isalpha() for c in password))\n",
        "\n",
        "def count_special(password):\n",
        "    return sum((1 for c in password if not (c.isalpha() or c.isdigit())))\n",
        "\n",
        "def count_unique(password):\n",
        "    ps = set(password)\n",
        "    return len(ps)\n",
        "\n",
        "def count_uppercase(password):\n",
        "    return sum((c.isupper() for c in password))\n",
        "\n",
        "def count_lowercase(password):\n",
        "    return sum((c.islower() for c in password))"
      ],
      "metadata": {
        "trusted": true,
        "id": "EnqaEqYIabOF"
      },
      "execution_count": 13,
      "outputs": []
    },
    {
      "cell_type": "code",
      "source": [
        "def preprocess_data(df):\n",
        "    df['len'] = df['Password'].str.len()\n",
        "    df['Password'] = df['Password'].apply(lambda x: str(x))\n",
        "    df['n_lowercase'] = df['Password'].apply(lambda x: count_lowercase(x))\n",
        "    df['n_digits'] = df['Password'].apply(lambda x: count_digits(x))\n",
        "    df['n_letters'] = df['Password'].apply(lambda x: count_letters(x))\n",
        "    df['n_special'] = df['Password'].apply(lambda x: count_special(x))\n",
        "    df['n_unique'] = df['Password'].apply(lambda x: count_unique(x))\n",
        "    df['n_uppercase'] = df['Password'].apply(lambda x: count_uppercase(x))\n",
        "    df['n_lowercase'] = df['Password'].apply(lambda x: count_lowercase(x))\n",
        "    return df"
      ],
      "metadata": {
        "trusted": true,
        "id": "GbjUXnQZabOF"
      },
      "execution_count": 14,
      "outputs": []
    },
    {
      "cell_type": "code",
      "source": [
        "preprocessed_train = preprocess_data(train)\n",
        "preprocessed_test = preprocess_data(test)"
      ],
      "metadata": {
        "trusted": true,
        "id": "wEhSZAIcabOG"
      },
      "execution_count": 15,
      "outputs": []
    },
    {
      "cell_type": "code",
      "source": [
        "preprocessed_train.head()"
      ],
      "metadata": {
        "colab": {
          "base_uri": "https://localhost:8080/",
          "height": 206
        },
        "id": "yWWKTJVrbJ_M",
        "outputId": "b69e5349-9b31-43e1-df03-6a43cdbf3f53"
      },
      "execution_count": 16,
      "outputs": [
        {
          "output_type": "execute_result",
          "data": {
            "text/plain": [
              "        Password  len  n_lowercase  n_digits  n_letters  n_special  n_unique  \\\n",
              "0  631XniVx2lS5I   13            4         5          8          0        13   \n",
              "1       LEGIT747    8            0         3          5          0         7   \n",
              "2       742364es    8            2         6          2          0         7   \n",
              "3     3846696477   10            0        10          0          0         6   \n",
              "4       laurahop    8            8         0          8          0         7   \n",
              "\n",
              "   n_uppercase  \n",
              "0            4  \n",
              "1            5  \n",
              "2            0  \n",
              "3            0  \n",
              "4            0  "
            ],
            "text/html": [
              "\n",
              "  <div id=\"df-b2dd711c-9fef-4ae4-904a-c9f0ee907ba3\">\n",
              "    <div class=\"colab-df-container\">\n",
              "      <div>\n",
              "<style scoped>\n",
              "    .dataframe tbody tr th:only-of-type {\n",
              "        vertical-align: middle;\n",
              "    }\n",
              "\n",
              "    .dataframe tbody tr th {\n",
              "        vertical-align: top;\n",
              "    }\n",
              "\n",
              "    .dataframe thead th {\n",
              "        text-align: right;\n",
              "    }\n",
              "</style>\n",
              "<table border=\"1\" class=\"dataframe\">\n",
              "  <thead>\n",
              "    <tr style=\"text-align: right;\">\n",
              "      <th></th>\n",
              "      <th>Password</th>\n",
              "      <th>len</th>\n",
              "      <th>n_lowercase</th>\n",
              "      <th>n_digits</th>\n",
              "      <th>n_letters</th>\n",
              "      <th>n_special</th>\n",
              "      <th>n_unique</th>\n",
              "      <th>n_uppercase</th>\n",
              "    </tr>\n",
              "  </thead>\n",
              "  <tbody>\n",
              "    <tr>\n",
              "      <th>0</th>\n",
              "      <td>631XniVx2lS5I</td>\n",
              "      <td>13</td>\n",
              "      <td>4</td>\n",
              "      <td>5</td>\n",
              "      <td>8</td>\n",
              "      <td>0</td>\n",
              "      <td>13</td>\n",
              "      <td>4</td>\n",
              "    </tr>\n",
              "    <tr>\n",
              "      <th>1</th>\n",
              "      <td>LEGIT747</td>\n",
              "      <td>8</td>\n",
              "      <td>0</td>\n",
              "      <td>3</td>\n",
              "      <td>5</td>\n",
              "      <td>0</td>\n",
              "      <td>7</td>\n",
              "      <td>5</td>\n",
              "    </tr>\n",
              "    <tr>\n",
              "      <th>2</th>\n",
              "      <td>742364es</td>\n",
              "      <td>8</td>\n",
              "      <td>2</td>\n",
              "      <td>6</td>\n",
              "      <td>2</td>\n",
              "      <td>0</td>\n",
              "      <td>7</td>\n",
              "      <td>0</td>\n",
              "    </tr>\n",
              "    <tr>\n",
              "      <th>3</th>\n",
              "      <td>3846696477</td>\n",
              "      <td>10</td>\n",
              "      <td>0</td>\n",
              "      <td>10</td>\n",
              "      <td>0</td>\n",
              "      <td>0</td>\n",
              "      <td>6</td>\n",
              "      <td>0</td>\n",
              "    </tr>\n",
              "    <tr>\n",
              "      <th>4</th>\n",
              "      <td>laurahop</td>\n",
              "      <td>8</td>\n",
              "      <td>8</td>\n",
              "      <td>0</td>\n",
              "      <td>8</td>\n",
              "      <td>0</td>\n",
              "      <td>7</td>\n",
              "      <td>0</td>\n",
              "    </tr>\n",
              "  </tbody>\n",
              "</table>\n",
              "</div>\n",
              "      <button class=\"colab-df-convert\" onclick=\"convertToInteractive('df-b2dd711c-9fef-4ae4-904a-c9f0ee907ba3')\"\n",
              "              title=\"Convert this dataframe to an interactive table.\"\n",
              "              style=\"display:none;\">\n",
              "        \n",
              "  <svg xmlns=\"http://www.w3.org/2000/svg\" height=\"24px\"viewBox=\"0 0 24 24\"\n",
              "       width=\"24px\">\n",
              "    <path d=\"M0 0h24v24H0V0z\" fill=\"none\"/>\n",
              "    <path d=\"M18.56 5.44l.94 2.06.94-2.06 2.06-.94-2.06-.94-.94-2.06-.94 2.06-2.06.94zm-11 1L8.5 8.5l.94-2.06 2.06-.94-2.06-.94L8.5 2.5l-.94 2.06-2.06.94zm10 10l.94 2.06.94-2.06 2.06-.94-2.06-.94-.94-2.06-.94 2.06-2.06.94z\"/><path d=\"M17.41 7.96l-1.37-1.37c-.4-.4-.92-.59-1.43-.59-.52 0-1.04.2-1.43.59L10.3 9.45l-7.72 7.72c-.78.78-.78 2.05 0 2.83L4 21.41c.39.39.9.59 1.41.59.51 0 1.02-.2 1.41-.59l7.78-7.78 2.81-2.81c.8-.78.8-2.07 0-2.86zM5.41 20L4 18.59l7.72-7.72 1.47 1.35L5.41 20z\"/>\n",
              "  </svg>\n",
              "      </button>\n",
              "      \n",
              "  <style>\n",
              "    .colab-df-container {\n",
              "      display:flex;\n",
              "      flex-wrap:wrap;\n",
              "      gap: 12px;\n",
              "    }\n",
              "\n",
              "    .colab-df-convert {\n",
              "      background-color: #E8F0FE;\n",
              "      border: none;\n",
              "      border-radius: 50%;\n",
              "      cursor: pointer;\n",
              "      display: none;\n",
              "      fill: #1967D2;\n",
              "      height: 32px;\n",
              "      padding: 0 0 0 0;\n",
              "      width: 32px;\n",
              "    }\n",
              "\n",
              "    .colab-df-convert:hover {\n",
              "      background-color: #E2EBFA;\n",
              "      box-shadow: 0px 1px 2px rgba(60, 64, 67, 0.3), 0px 1px 3px 1px rgba(60, 64, 67, 0.15);\n",
              "      fill: #174EA6;\n",
              "    }\n",
              "\n",
              "    [theme=dark] .colab-df-convert {\n",
              "      background-color: #3B4455;\n",
              "      fill: #D2E3FC;\n",
              "    }\n",
              "\n",
              "    [theme=dark] .colab-df-convert:hover {\n",
              "      background-color: #434B5C;\n",
              "      box-shadow: 0px 1px 3px 1px rgba(0, 0, 0, 0.15);\n",
              "      filter: drop-shadow(0px 1px 2px rgba(0, 0, 0, 0.3));\n",
              "      fill: #FFFFFF;\n",
              "    }\n",
              "  </style>\n",
              "\n",
              "      <script>\n",
              "        const buttonEl =\n",
              "          document.querySelector('#df-b2dd711c-9fef-4ae4-904a-c9f0ee907ba3 button.colab-df-convert');\n",
              "        buttonEl.style.display =\n",
              "          google.colab.kernel.accessAllowed ? 'block' : 'none';\n",
              "\n",
              "        async function convertToInteractive(key) {\n",
              "          const element = document.querySelector('#df-b2dd711c-9fef-4ae4-904a-c9f0ee907ba3');\n",
              "          const dataTable =\n",
              "            await google.colab.kernel.invokeFunction('convertToInteractive',\n",
              "                                                     [key], {});\n",
              "          if (!dataTable) return;\n",
              "\n",
              "          const docLinkHtml = 'Like what you see? Visit the ' +\n",
              "            '<a target=\"_blank\" href=https://colab.research.google.com/notebooks/data_table.ipynb>data table notebook</a>'\n",
              "            + ' to learn more about interactive tables.';\n",
              "          element.innerHTML = '';\n",
              "          dataTable['output_type'] = 'display_data';\n",
              "          await google.colab.output.renderOutput(dataTable, element);\n",
              "          const docLink = document.createElement('div');\n",
              "          docLink.innerHTML = docLinkHtml;\n",
              "          element.appendChild(docLink);\n",
              "        }\n",
              "      </script>\n",
              "    </div>\n",
              "  </div>\n",
              "  "
            ]
          },
          "metadata": {},
          "execution_count": 16
        }
      ]
    },
    {
      "cell_type": "markdown",
      "source": [
        "**Train-test split**"
      ],
      "metadata": {
        "id": "-23zM8M8cxl3"
      }
    },
    {
      "cell_type": "code",
      "source": [
        "X_train, X_val, y_train, y_val = train_test_split(\n",
        "    preprocessed_train.drop(['Password'], axis=1),\n",
        "    y,\n",
        "    test_size=0.1,\n",
        "    random_state=87\n",
        ")\n",
        "\n",
        "print('X_train:', X_train.shape)\n",
        "print('y_train:', y_train.shape, end='\\n\\n')\n",
        "\n",
        "print('X_val:', X_val.shape)\n",
        "print('y_val:', y_val.shape, end='\\n\\n')"
      ],
      "metadata": {
        "colab": {
          "base_uri": "https://localhost:8080/"
        },
        "id": "WRHuEHOEcxEy",
        "outputId": "3c47a8e5-0d5a-4ed2-c6f7-44e6de6c90be"
      },
      "execution_count": 25,
      "outputs": [
        {
          "output_type": "stream",
          "name": "stdout",
          "text": [
            "X_train: (2665848, 7)\n",
            "y_train: (2665848,)\n",
            "\n",
            "X_val: (296206, 7)\n",
            "y_val: (296206,)\n",
            "\n"
          ]
        }
      ]
    },
    {
      "cell_type": "markdown",
      "source": [
        "**Simple linear regression**"
      ],
      "metadata": {
        "id": "cOlPKQF8bn5v"
      }
    },
    {
      "cell_type": "code",
      "source": [
        "%%time\n",
        "\n",
        "lr = LinearRegression()\n",
        "lr.fit(X_train, y_train)\n",
        "preds = lr.predict(X_val)\n",
        "preds[preds < 0] = 0\n",
        "mean_squared_log_error(y_val, preds, squared=False)"
      ],
      "metadata": {
        "colab": {
          "base_uri": "https://localhost:8080/"
        },
        "id": "K9v6QXZvblfq",
        "outputId": "9816e289-76a9-44bf-d9ab-8f3f9ac72b80"
      },
      "execution_count": 32,
      "outputs": [
        {
          "output_type": "stream",
          "name": "stdout",
          "text": [
            "CPU times: user 679 ms, sys: 131 ms, total: 810 ms\n",
            "Wall time: 752 ms\n"
          ]
        },
        {
          "output_type": "execute_result",
          "data": {
            "text/plain": [
              "0.5023182001854288"
            ]
          },
          "metadata": {},
          "execution_count": 32
        }
      ]
    },
    {
      "cell_type": "markdown",
      "source": [
        "**RandomForest Regressor**"
      ],
      "metadata": {
        "id": "9XOrFE_QeKa-"
      }
    },
    {
      "cell_type": "markdown",
      "source": [
        "Default"
      ],
      "metadata": {
        "id": "r0Oj7ANIeYaG"
      }
    },
    {
      "cell_type": "code",
      "source": [
        "X_train.shape"
      ],
      "metadata": {
        "colab": {
          "base_uri": "https://localhost:8080/"
        },
        "id": "j89C8ju7iHI_",
        "outputId": "04cb4f3b-7785-4a0c-c790-3534269f44f2"
      },
      "execution_count": 40,
      "outputs": [
        {
          "output_type": "execute_result",
          "data": {
            "text/plain": [
              "(2665848, 7)"
            ]
          },
          "metadata": {},
          "execution_count": 40
        }
      ]
    },
    {
      "cell_type": "code",
      "source": [
        "%%time\n",
        "\n",
        "rf = RandomForestRegressor(random_state=2022, max_depth=10)\n",
        "rf.fit(X_train[:100000], y_train[:100000])\n",
        "preds = rf.predict(X_val)\n",
        "preds[preds < 0] = 0\n",
        "mean_squared_log_error(y_val, preds, squared=False)"
      ],
      "metadata": {
        "colab": {
          "base_uri": "https://localhost:8080/"
        },
        "id": "M1fKXIWjeKEp",
        "outputId": "929915e1-4988-4e42-f69f-3be5041bd98a"
      },
      "execution_count": 42,
      "outputs": [
        {
          "output_type": "stream",
          "name": "stdout",
          "text": [
            "CPU times: user 10.7 s, sys: 48.8 ms, total: 10.7 s\n",
            "Wall time: 12.1 s\n"
          ]
        },
        {
          "output_type": "execute_result",
          "data": {
            "text/plain": [
              "0.5018242346433415"
            ]
          },
          "metadata": {},
          "execution_count": 42
        }
      ]
    },
    {
      "cell_type": "markdown",
      "source": [
        "With simple hyperparameters optimization"
      ],
      "metadata": {
        "id": "NKB3b-HIeaJm"
      }
    },
    {
      "cell_type": "code",
      "source": [
        "rf = RandomForestRegressor(random_state=2022)\n",
        "distributions = dict(\n",
        "    n_estimators=[100, 150, 200],\n",
        "    max_depth=[10, 8, 6]\n",
        ")\n",
        "\n",
        "cv = RandomizedSearchCV(rf, distributions, random_state=2022)\n",
        "search = cv.fit(X_train[:100000], y_train[:100000])\n",
        "search.best_params_"
      ],
      "metadata": {
        "colab": {
          "base_uri": "https://localhost:8080/"
        },
        "id": "Ea-TctvSeZk0",
        "outputId": "04c20083-e4fa-4417-defb-de41f3322128"
      },
      "execution_count": 45,
      "outputs": [
        {
          "output_type": "stream",
          "name": "stderr",
          "text": [
            "/usr/local/lib/python3.7/dist-packages/sklearn/model_selection/_search.py:296: UserWarning: The total space of parameters 9 is smaller than n_iter=10. Running 9 iterations. For exhaustive searches, use GridSearchCV.\n",
            "  UserWarning,\n"
          ]
        },
        {
          "output_type": "execute_result",
          "data": {
            "text/plain": [
              "{'n_estimators': 200, 'max_depth': 6}"
            ]
          },
          "metadata": {},
          "execution_count": 45
        }
      ]
    },
    {
      "cell_type": "code",
      "source": [
        "preds = search.predict(X_val)\n",
        "preds[preds < 0] = 0\n",
        "mean_squared_log_error(y_val, preds, squared=False)"
      ],
      "metadata": {
        "colab": {
          "base_uri": "https://localhost:8080/"
        },
        "id": "P_sJde3HeZnW",
        "outputId": "0d66c8f8-3994-493a-cfab-0aa7a0b8ba81"
      },
      "execution_count": 46,
      "outputs": [
        {
          "output_type": "execute_result",
          "data": {
            "text/plain": [
              "0.5000166202467875"
            ]
          },
          "metadata": {},
          "execution_count": 46
        }
      ]
    },
    {
      "cell_type": "markdown",
      "source": [
        "**Custom Simple LSTM**"
      ],
      "metadata": {
        "id": "mn9HQXunabOH"
      }
    },
    {
      "cell_type": "code",
      "source": [
        "train = pd.read_csv('train.csv')\n",
        "test = pd.read_csv('test.csv')\n",
        "train.dropna(inplace=True)"
      ],
      "metadata": {
        "id": "U32gJ_bwm4G4"
      },
      "execution_count": 8,
      "outputs": []
    },
    {
      "cell_type": "code",
      "source": [
        "df = train.copy()\n",
        "df.head()"
      ],
      "metadata": {
        "colab": {
          "base_uri": "https://localhost:8080/",
          "height": 206
        },
        "id": "HFLxpTIDfmHB",
        "outputId": "23e1d061-e609-4e37-e692-ac80cb2c7daf"
      },
      "execution_count": 10,
      "outputs": [
        {
          "output_type": "execute_result",
          "data": {
            "text/plain": [
              "        Password  Times\n",
              "0  631XniVx2lS5I      2\n",
              "1       LEGIT747      1\n",
              "2       742364es      1\n",
              "3     3846696477      1\n",
              "4       laurahop      2"
            ],
            "text/html": [
              "\n",
              "  <div id=\"df-90635438-3363-41d4-8723-43ef944f9796\">\n",
              "    <div class=\"colab-df-container\">\n",
              "      <div>\n",
              "<style scoped>\n",
              "    .dataframe tbody tr th:only-of-type {\n",
              "        vertical-align: middle;\n",
              "    }\n",
              "\n",
              "    .dataframe tbody tr th {\n",
              "        vertical-align: top;\n",
              "    }\n",
              "\n",
              "    .dataframe thead th {\n",
              "        text-align: right;\n",
              "    }\n",
              "</style>\n",
              "<table border=\"1\" class=\"dataframe\">\n",
              "  <thead>\n",
              "    <tr style=\"text-align: right;\">\n",
              "      <th></th>\n",
              "      <th>Password</th>\n",
              "      <th>Times</th>\n",
              "    </tr>\n",
              "  </thead>\n",
              "  <tbody>\n",
              "    <tr>\n",
              "      <th>0</th>\n",
              "      <td>631XniVx2lS5I</td>\n",
              "      <td>2</td>\n",
              "    </tr>\n",
              "    <tr>\n",
              "      <th>1</th>\n",
              "      <td>LEGIT747</td>\n",
              "      <td>1</td>\n",
              "    </tr>\n",
              "    <tr>\n",
              "      <th>2</th>\n",
              "      <td>742364es</td>\n",
              "      <td>1</td>\n",
              "    </tr>\n",
              "    <tr>\n",
              "      <th>3</th>\n",
              "      <td>3846696477</td>\n",
              "      <td>1</td>\n",
              "    </tr>\n",
              "    <tr>\n",
              "      <th>4</th>\n",
              "      <td>laurahop</td>\n",
              "      <td>2</td>\n",
              "    </tr>\n",
              "  </tbody>\n",
              "</table>\n",
              "</div>\n",
              "      <button class=\"colab-df-convert\" onclick=\"convertToInteractive('df-90635438-3363-41d4-8723-43ef944f9796')\"\n",
              "              title=\"Convert this dataframe to an interactive table.\"\n",
              "              style=\"display:none;\">\n",
              "        \n",
              "  <svg xmlns=\"http://www.w3.org/2000/svg\" height=\"24px\"viewBox=\"0 0 24 24\"\n",
              "       width=\"24px\">\n",
              "    <path d=\"M0 0h24v24H0V0z\" fill=\"none\"/>\n",
              "    <path d=\"M18.56 5.44l.94 2.06.94-2.06 2.06-.94-2.06-.94-.94-2.06-.94 2.06-2.06.94zm-11 1L8.5 8.5l.94-2.06 2.06-.94-2.06-.94L8.5 2.5l-.94 2.06-2.06.94zm10 10l.94 2.06.94-2.06 2.06-.94-2.06-.94-.94-2.06-.94 2.06-2.06.94z\"/><path d=\"M17.41 7.96l-1.37-1.37c-.4-.4-.92-.59-1.43-.59-.52 0-1.04.2-1.43.59L10.3 9.45l-7.72 7.72c-.78.78-.78 2.05 0 2.83L4 21.41c.39.39.9.59 1.41.59.51 0 1.02-.2 1.41-.59l7.78-7.78 2.81-2.81c.8-.78.8-2.07 0-2.86zM5.41 20L4 18.59l7.72-7.72 1.47 1.35L5.41 20z\"/>\n",
              "  </svg>\n",
              "      </button>\n",
              "      \n",
              "  <style>\n",
              "    .colab-df-container {\n",
              "      display:flex;\n",
              "      flex-wrap:wrap;\n",
              "      gap: 12px;\n",
              "    }\n",
              "\n",
              "    .colab-df-convert {\n",
              "      background-color: #E8F0FE;\n",
              "      border: none;\n",
              "      border-radius: 50%;\n",
              "      cursor: pointer;\n",
              "      display: none;\n",
              "      fill: #1967D2;\n",
              "      height: 32px;\n",
              "      padding: 0 0 0 0;\n",
              "      width: 32px;\n",
              "    }\n",
              "\n",
              "    .colab-df-convert:hover {\n",
              "      background-color: #E2EBFA;\n",
              "      box-shadow: 0px 1px 2px rgba(60, 64, 67, 0.3), 0px 1px 3px 1px rgba(60, 64, 67, 0.15);\n",
              "      fill: #174EA6;\n",
              "    }\n",
              "\n",
              "    [theme=dark] .colab-df-convert {\n",
              "      background-color: #3B4455;\n",
              "      fill: #D2E3FC;\n",
              "    }\n",
              "\n",
              "    [theme=dark] .colab-df-convert:hover {\n",
              "      background-color: #434B5C;\n",
              "      box-shadow: 0px 1px 3px 1px rgba(0, 0, 0, 0.15);\n",
              "      filter: drop-shadow(0px 1px 2px rgba(0, 0, 0, 0.3));\n",
              "      fill: #FFFFFF;\n",
              "    }\n",
              "  </style>\n",
              "\n",
              "      <script>\n",
              "        const buttonEl =\n",
              "          document.querySelector('#df-90635438-3363-41d4-8723-43ef944f9796 button.colab-df-convert');\n",
              "        buttonEl.style.display =\n",
              "          google.colab.kernel.accessAllowed ? 'block' : 'none';\n",
              "\n",
              "        async function convertToInteractive(key) {\n",
              "          const element = document.querySelector('#df-90635438-3363-41d4-8723-43ef944f9796');\n",
              "          const dataTable =\n",
              "            await google.colab.kernel.invokeFunction('convertToInteractive',\n",
              "                                                     [key], {});\n",
              "          if (!dataTable) return;\n",
              "\n",
              "          const docLinkHtml = 'Like what you see? Visit the ' +\n",
              "            '<a target=\"_blank\" href=https://colab.research.google.com/notebooks/data_table.ipynb>data table notebook</a>'\n",
              "            + ' to learn more about interactive tables.';\n",
              "          element.innerHTML = '';\n",
              "          dataTable['output_type'] = 'display_data';\n",
              "          await google.colab.output.renderOutput(dataTable, element);\n",
              "          const docLink = document.createElement('div');\n",
              "          docLink.innerHTML = docLinkHtml;\n",
              "          element.appendChild(docLink);\n",
              "        }\n",
              "      </script>\n",
              "    </div>\n",
              "  </div>\n",
              "  "
            ]
          },
          "metadata": {},
          "execution_count": 10
        }
      ]
    },
    {
      "cell_type": "code",
      "source": [
        "df['Password'] = df['Password'] .fillna('')"
      ],
      "metadata": {
        "id": "BRrlFlDAkTQw"
      },
      "execution_count": 11,
      "outputs": []
    },
    {
      "cell_type": "code",
      "source": [
        "tokenizer = Tokenizer(100, filters='', lower=False)\n",
        "tokenizer.fit_on_texts(df['Password'])\n",
        "tokens = tokenizer.texts_to_sequences(df['Password'])"
      ],
      "metadata": {
        "trusted": true,
        "id": "y9QfQ2tuabOI"
      },
      "execution_count": 12,
      "outputs": []
    },
    {
      "cell_type": "code",
      "source": [
        "with open('tokenizer.pickle', 'wb') as handle:\n",
        "    pickle.dump(tokenizer, handle, protocol=pickle.HIGHEST_PROTOCOL)"
      ],
      "metadata": {
        "trusted": true,
        "id": "80S9KnuFabOI"
      },
      "execution_count": 13,
      "outputs": []
    },
    {
      "cell_type": "code",
      "source": [
        "df['len'] = df['Password'].str.len()\n",
        "df_tokenized = pad_sequences(tokens, df['len'].max(), padding='post')\n",
        "print(df_tokenized.shape)"
      ],
      "metadata": {
        "trusted": true,
        "colab": {
          "base_uri": "https://localhost:8080/"
        },
        "id": "UUs74DpbabOI",
        "outputId": "bc031685-dc21-4ea3-d4b6-39b10a79f927"
      },
      "execution_count": 14,
      "outputs": [
        {
          "output_type": "stream",
          "name": "stdout",
          "text": [
            "(277636, 39)\n"
          ]
        }
      ]
    },
    {
      "cell_type": "code",
      "source": [
        "from sklearn.model_selection import train_test_split\n",
        "\n",
        "X_train, X_val, y_train, y_val = train_test_split(df_tokenized, df['Times'], test_size=0.1, random_state=87)\n",
        "\n",
        "print('X_train:', X_train.shape)\n",
        "print('y_train:', y_train.shape, end='\\n\\n')\n",
        "\n",
        "print('X_val:', X_val.shape)\n",
        "print('y_val:', y_val.shape, end='\\n\\n')"
      ],
      "metadata": {
        "colab": {
          "base_uri": "https://localhost:8080/"
        },
        "id": "_OnpFD23c3ns",
        "outputId": "699ae8ba-899c-4b73-b861-3f07041951d4"
      },
      "execution_count": 15,
      "outputs": [
        {
          "output_type": "stream",
          "name": "stdout",
          "text": [
            "X_train: (249872, 39)\n",
            "y_train: (249872,)\n",
            "\n",
            "X_val: (27764, 39)\n",
            "y_val: (27764,)\n",
            "\n"
          ]
        }
      ]
    },
    {
      "cell_type": "markdown",
      "source": [
        "**Model**"
      ],
      "metadata": {
        "id": "XVC8Uj-jabOJ"
      }
    },
    {
      "cell_type": "code",
      "source": [
        "def rmsle(y_true, y_pred):\n",
        "    \"\"\"Loss function\"\"\"\n",
        "    y_true = tf.cast(y_true, tf.float32)\n",
        "    y_pred = tf.cast(y_pred, tf.float32)\n",
        "    return tf.math.sqrt(\n",
        "        tf.reduce_mean(\n",
        "            tf.math.squared_difference(tf.math.log1p(y_pred), tf.math.log1p(y_true))\n",
        "        )\n",
        "    )"
      ],
      "metadata": {
        "trusted": true,
        "id": "D8zzu89HabOJ"
      },
      "execution_count": 16,
      "outputs": []
    },
    {
      "cell_type": "code",
      "source": [
        "EMBEDDING_VECTOR_LENGHT = 16\n",
        "HIDDEN_DIM = 16\n",
        "\n",
        "early_stopping = EarlyStopping(monitor='val_loss', patience=2, verbose=0, mode='auto')\n",
        "\n",
        "model = Sequential()\n",
        "model.add(Embedding(100, EMBEDDING_VECTOR_LENGHT, input_length=df['len'].max(), mask_zero=True,))\n",
        "\n",
        "model.add(LSTM(HIDDEN_DIM))\n",
        "model.add(Dense(1))\n",
        "model.add(ReLU())\n",
        "\n",
        "opt = Adam()\n",
        "model.compile(loss=rmsle, optimizer=opt)\n",
        "print(model.summary())"
      ],
      "metadata": {
        "trusted": true,
        "colab": {
          "base_uri": "https://localhost:8080/"
        },
        "id": "v2lT380zabOJ",
        "outputId": "2a16da40-26b5-4653-d5b8-a71f312de722"
      },
      "execution_count": 19,
      "outputs": [
        {
          "output_type": "stream",
          "name": "stdout",
          "text": [
            "Model: \"sequential_1\"\n",
            "_________________________________________________________________\n",
            " Layer (type)                Output Shape              Param #   \n",
            "=================================================================\n",
            " embedding_1 (Embedding)     (None, 39, 16)            1600      \n",
            "                                                                 \n",
            " lstm_1 (LSTM)               (None, 16)                2112      \n",
            "                                                                 \n",
            " dense_1 (Dense)             (None, 1)                 17        \n",
            "                                                                 \n",
            " re_lu_1 (ReLU)              (None, 1)                 0         \n",
            "                                                                 \n",
            "=================================================================\n",
            "Total params: 3,729\n",
            "Trainable params: 3,729\n",
            "Non-trainable params: 0\n",
            "_________________________________________________________________\n",
            "None\n"
          ]
        }
      ]
    },
    {
      "cell_type": "code",
      "source": [
        "hist = model.fit(\n",
        "    X_train, y_train, \n",
        "    epochs=20, \n",
        "    batch_size=512,\n",
        "    validation_data=(X_val, y_val), \n",
        "    callbacks=[early_stopping]\n",
        ")"
      ],
      "metadata": {
        "trusted": true,
        "colab": {
          "base_uri": "https://localhost:8080/"
        },
        "id": "Ek7CWK4nabOK",
        "outputId": "559d7aad-6660-4b5f-cc12-6c07e00f2975"
      },
      "execution_count": 20,
      "outputs": [
        {
          "output_type": "stream",
          "name": "stdout",
          "text": [
            "Epoch 1/20\n",
            "489/489 [==============================] - 52s 98ms/step - loss: 0.7419 - val_loss: 0.6121\n",
            "Epoch 2/20\n",
            "489/489 [==============================] - 48s 98ms/step - loss: 0.5328 - val_loss: 0.4763\n",
            "Epoch 3/20\n",
            "489/489 [==============================] - 47s 95ms/step - loss: 0.4430 - val_loss: 0.4244\n",
            "Epoch 4/20\n",
            "489/489 [==============================] - 48s 97ms/step - loss: 0.4124 - val_loss: 0.4094\n",
            "Epoch 5/20\n",
            "489/489 [==============================] - 47s 95ms/step - loss: 0.4046 - val_loss: 0.4061\n",
            "Epoch 6/20\n",
            "489/489 [==============================] - 46s 95ms/step - loss: 0.4035 - val_loss: 0.4057\n",
            "Epoch 7/20\n",
            "489/489 [==============================] - 47s 96ms/step - loss: 0.4030 - val_loss: 0.4056\n",
            "Epoch 8/20\n",
            "489/489 [==============================] - 46s 95ms/step - loss: 0.4028 - val_loss: 0.4056\n",
            "Epoch 9/20\n",
            "489/489 [==============================] - 46s 94ms/step - loss: 0.4029 - val_loss: 0.4056\n"
          ]
        }
      ]
    },
    {
      "cell_type": "code",
      "source": [
        "plt.plot(hist.history['loss'], label = 'Train');\n",
        "plt.plot(hist.history['val_loss'], label ='Val');\n",
        "plt.legend();\n",
        "plt.xlabel('Epoch ');\n",
        "plt.ylabel('RMSLE');"
      ],
      "metadata": {
        "trusted": true,
        "colab": {
          "base_uri": "https://localhost:8080/",
          "height": 279
        },
        "id": "bqAp1cEcabOK",
        "outputId": "0c140370-b023-4f29-8a5f-36fce878c41a"
      },
      "execution_count": 22,
      "outputs": [
        {
          "output_type": "display_data",
          "data": {
            "text/plain": [
              "<Figure size 432x288 with 1 Axes>"
            ],
            "image/png": "[encoded data removed]"
          },
          "metadata": {
            "needs_background": "light"
          }
        }
      ]
    },
    {
      "cell_type": "code",
      "source": [
        "model.save('lstm_model') "
      ],
      "metadata": {
        "trusted": true,
        "colab": {
          "base_uri": "https://localhost:8080/"
        },
        "id": "QH9zB3RCabOK",
        "outputId": "d96626cd-16a7-4689-a2ae-f3b9f2e0705a"
      },
      "execution_count": 23,
      "outputs": [
        {
          "output_type": "stream",
          "name": "stderr",
          "text": [
            "WARNING:absl:Found untraced functions such as lstm_cell_1_layer_call_fn, lstm_cell_1_layer_call_and_return_conditional_losses while saving (showing 2 of 2). These functions will not be directly callable after loading.\n"
          ]
        }
      ]
    },
    {
      "cell_type": "markdown",
      "source": [
        "**Prediction**"
      ],
      "metadata": {
        "id": "cyYazdY6abOK"
      }
    },
    {
      "cell_type": "code",
      "source": [
        "preds = model.predict(X_val)\n",
        "preds[preds < 0] = 0\n",
        "mean_squared_log_error(y_val, preds, squared=False)"
      ],
      "metadata": {
        "trusted": true,
        "colab": {
          "base_uri": "https://localhost:8080/"
        },
        "id": "rwd4pGZdabOL",
        "outputId": "c0ae18b5-f8d5-47e7-b6ab-3dfb26ecff3c"
      },
      "execution_count": 27,
      "outputs": [
        {
          "output_type": "stream",
          "name": "stdout",
          "text": [
            "868/868 [==============================] - 7s 8ms/step\n"
          ]
        },
        {
          "output_type": "execute_result",
          "data": {
            "text/plain": [
              "0.4091827400076979"
            ]
          },
          "metadata": {},
          "execution_count": 27
        }
      ]
    }
  ]
}